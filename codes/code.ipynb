{
 "cells": [
  {
   "cell_type": "markdown",
   "metadata": {
    "id": "RZ_nBRP4A31Z"
   },
   "source": [
    "# **Question 1:**"
   ]
  },
  {
   "cell_type": "markdown",
   "metadata": {
    "id": "C2t_HFpyA_BM"
   },
   "source": [
    "# Part 1-1)"
   ]
  },
  {
   "cell_type": "code",
   "execution_count": 6,
   "metadata": {
    "id": "6iBZOMnEA3-k"
   },
   "outputs": [],
   "source": [
    "import pandas as pd\n",
    "import numpy as np\n",
    "import matplotlib.pyplot as plt\n",
    "from random import *\n",
    "from math import *\n",
    "import numpy as np\n",
    "from matplotlib.pyplot import *\n",
    "import pandas as pd\n",
    "import seaborn as sns"
   ]
  },
  {
   "cell_type": "code",
   "execution_count": null,
   "metadata": {
    "id": "yxvlZpno9O85"
   },
   "outputs": [],
   "source": [
    "def prob_calc(n,k):\n",
    "    candidate=[i for i in range(n)];\n",
    "    num_iterations=10000\n",
    "    summation=0\n",
    "    for i in range(num_iterations):\n",
    "        shuffle(candidate)\n",
    "        cand_list=[candidate[m] for m in range(0,k)]\n",
    "        for j in range(k,n):\n",
    "          if candidate[j]>np.max(cand_list):\n",
    "                if candidate[j]==n-1:\n",
    "                    summation+=1\n",
    "                break\n",
    "    return summation/num_iterations"
   ]
  },
  {
   "cell_type": "code",
   "execution_count": null,
   "metadata": {
    "colab": {
     "base_uri": "https://localhost:8080/",
     "height": 310
    },
    "id": "xZZwipUR_aD4",
    "outputId": "276afb99-0d83-4607-af04-4d984a8e96fd"
   },
   "outputs": [
    {
     "data": {
      "text/plain": [
       "Text(30, 0.22319999999999998, 'k=35, p≈0.3732')"
      ]
     },
     "execution_count": 16,
     "metadata": {},
     "output_type": "execute_result"
    },
    {
     "data": {
      "image/png": "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\n",
      "text/plain": [
       "<Figure size 432x288 with 1 Axes>"
      ]
     },
     "metadata": {
      "needs_background": "light"
     },
     "output_type": "display_data"
    }
   ],
   "source": [
    "n=100\n",
    "prob_array=[prob_calc(n,k) for k in range(5,101,5)]\n",
    "k=[i for i in range(5,101,5)]\n",
    "scatter(k,prob_array)\n",
    "title('The best applicant in a 100 peaple',fontsize=10)\n",
    "xlabel('k',fontsize=10)\n",
    "ylabel('probability',fontsize=10)\n",
    "p_max_index=prob_array.index(max(prob_array))\n",
    "bbox = dict(boxstyle =\"round\", fc =\"0.7\")\n",
    "arrowprops = dict(arrowstyle = \"->\")\n",
    "annotate(f'k={k[p_max_index]}, p≈{max(prob_array)}',xy=(k[p_max_index],\n",
    "             max(prob_array)),xytext=(k[p_max_index]-5,max(prob_array)-0.15),\n",
    "             bbox = bbox, arrowprops = arrowprops)"
   ]
  }
